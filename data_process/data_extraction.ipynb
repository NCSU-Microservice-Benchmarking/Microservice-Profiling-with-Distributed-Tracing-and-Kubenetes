{
 "cells": [
  {
   "cell_type": "code",
   "execution_count": 1,
   "metadata": {},
   "outputs": [],
   "source": [
    "import pandas as pd\n",
    "import numpy as np\n",
    "import glob\n",
    "import csv\n",
    "import os\n",
    "import re"
   ]
  },
  {
   "cell_type": "code",
   "execution_count": 2,
   "metadata": {},
   "outputs": [
    {
     "name": "stdout",
     "output_type": "stream",
     "text": [
      "['experiments2023\\\\cpu\\\\client_1_cpu_1000m_mem_16_gpu_0.csv', 'experiments2023\\\\cpu\\\\client_1_cpu_2000m_mem_16_gpu_0.csv', 'experiments2023\\\\cpu\\\\client_1_cpu_3000m_mem_16_gpu_0.csv', 'experiments2023\\\\cpu\\\\client_1_cpu_4000m_mem_16_gpu_0.csv', 'experiments2023\\\\cpu\\\\client_1_cpu_5000m_mem_16_gpu_0.csv', 'experiments2023\\\\cpu\\\\client_1_cpu_6000m_mem_16_gpu_0.csv', 'experiments2023\\\\cpu\\\\client_3_cpu_1000m_mem_16_gpu_0.csv', 'experiments2023\\\\cpu\\\\client_3_cpu_100m_mem_16_gpu_0.csv', 'experiments2023\\\\cpu\\\\client_3_cpu_2000m_mem_16_gpu_0.csv', 'experiments2023\\\\cpu\\\\client_3_cpu_3000m_mem_16_gpu_0.csv', 'experiments2023\\\\cpu\\\\client_3_cpu_4000m_mem_16_gpu_0.csv', 'experiments2023\\\\cpu\\\\client_3_cpu_5000m_mem_16_gpu_0.csv', 'experiments2023\\\\cpu\\\\client_3_cpu_6000m_mem_16_gpu_0.csv', 'experiments2023\\\\cpu\\\\client_5_cpu_1000m_mem_16_gpu_0.csv', 'experiments2023\\\\cpu\\\\client_5_cpu_2000m_mem_16_gpu_0.csv', 'experiments2023\\\\cpu\\\\client_5_cpu_3000m_mem_16_gpu_0.csv', 'experiments2023\\\\cpu\\\\client_5_cpu_4000m_mem_16_gpu_0.csv', 'experiments2023\\\\cpu\\\\client_5_cpu_6000m_mem_16_gpu_0.csv', 'experiments2023\\\\gpu\\\\client_3_cpu_6000m_mem_16_gpu_0.csv', 'experiments2023\\\\gpu\\\\client_3_cpu_6000m_mem_16_gpu_1g5gb.csv', 'experiments2023\\\\gpu\\\\client_3_cpu_6000m_mem_16_gpu_2g10gb.csv', 'experiments2023\\\\gpu\\\\client_3_cpu_6000m_mem_16_gpu_3g20gb.csv', 'experiments2023\\\\gpu\\\\client_3_cpu_6_mem_16_gpu_1g5gb.csv', 'experiments2023\\\\num_clients\\\\client_5_memory_16g_cpu_6_data_points.csv', 'experiments2023\\\\num_clients\\\\client_5_memory_16g_cpu_6_data_points_2.csv', 'experiments2023\\\\num_clients\\\\round1\\\\client_1_memory_16g_cpu_6_data_points.csv', 'experiments2023\\\\num_clients\\\\round1\\\\client_2_memory_16g_cpu_6_data_points.csv', 'experiments2023\\\\num_clients\\\\round1\\\\client_3_memory_16g_cpu_6_data_points.csv', 'experiments2023\\\\num_clients\\\\round1\\\\client_4_memory_16g_cpu_6_data_points.csv', 'experiments2023\\\\num_clients\\\\round1\\\\client_5_memory_16g_cpu_6_data_points.csv', 'experiments2023\\\\num_clients\\\\round1\\\\client_6_memory_16g_cpu_6_data_points.csv', 'experiments2023\\\\num_clients\\\\round2\\\\client_1_memory_16g_cpu_6_data_points.csv', 'experiments2023\\\\num_clients\\\\round2\\\\client_2_memory_16g_cpu_6_data_points.csv', 'experiments2023\\\\num_clients\\\\round2\\\\client_4_memory_16g_cpu_6_data_points.csv', 'experiments2023\\\\num_clients\\\\round2\\\\client_5_memory_16g_cpu_6_data_points.csv']\n"
     ]
    }
   ],
   "source": [
    "data_folder = 'experiments2023'\n",
    "# find all csv files in the data folder and its subfolders\n",
    "data_file_list = glob.glob(data_folder + '/**/*.csv', recursive=True)\n",
    "print(data_file_list)"
   ]
  },
  {
   "cell_type": "code",
   "execution_count": 3,
   "metadata": {},
   "outputs": [
    {
     "name": "stdout",
     "output_type": "stream",
     "text": [
      "client_1_cpu_1000m_mem_16_gpu_0\n",
      "client_1_cpu_2000m_mem_16_gpu_0\n",
      "client_1_cpu_3000m_mem_16_gpu_0\n",
      "client_1_cpu_4000m_mem_16_gpu_0\n",
      "client_1_cpu_5000m_mem_16_gpu_0\n",
      "client_1_cpu_6000m_mem_16_gpu_0\n",
      "client_3_cpu_1000m_mem_16_gpu_0\n",
      "client_3_cpu_100m_mem_16_gpu_0\n",
      "client_3_cpu_2000m_mem_16_gpu_0\n",
      "client_3_cpu_3000m_mem_16_gpu_0\n",
      "client_3_cpu_4000m_mem_16_gpu_0\n",
      "client_3_cpu_5000m_mem_16_gpu_0\n",
      "client_3_cpu_6000m_mem_16_gpu_0\n",
      "client_5_cpu_1000m_mem_16_gpu_0\n",
      "client_5_cpu_2000m_mem_16_gpu_0\n",
      "client_5_cpu_3000m_mem_16_gpu_0\n",
      "client_5_cpu_4000m_mem_16_gpu_0\n",
      "client_5_cpu_6000m_mem_16_gpu_0\n",
      "client_3_cpu_6000m_mem_16_gpu_0\n",
      "client_3_cpu_6000m_mem_16_gpu_1g5gb\n",
      "client_3_cpu_6000m_mem_16_gpu_2g10gb\n",
      "client_3_cpu_6000m_mem_16_gpu_3g20gb\n",
      "client_3_cpu_6_mem_16_gpu_1g5gb\n",
      "client_5_memory_16g_cpu_6_data_points\n",
      "client_5_memory_16g_cpu_6_data_points_2\n",
      "client_1_memory_16g_cpu_6_data_points\n",
      "client_2_memory_16g_cpu_6_data_points\n",
      "client_3_memory_16g_cpu_6_data_points\n",
      "client_4_memory_16g_cpu_6_data_points\n",
      "client_5_memory_16g_cpu_6_data_points\n",
      "client_6_memory_16g_cpu_6_data_points\n",
      "client_1_memory_16g_cpu_6_data_points\n",
      "client_2_memory_16g_cpu_6_data_points\n",
      "client_4_memory_16g_cpu_6_data_points\n",
      "client_5_memory_16g_cpu_6_data_points\n"
     ]
    }
   ],
   "source": [
    "'''\n",
    "format of data_points:\n",
    "data_points = {\n",
    "    'cpu': num_cpu,\n",
    "    'mem': num_mem,\n",
    "    'gpu': num_gpu,\n",
    "    'gou_mem': num_gpu_mem,\n",
    "    'client': num_client,\n",
    "    'time_extract_network_package': extract_network_package_time,\n",
    "    'time_convert_data_to_numpy': convert_data_to_numpy_time,\n",
    "    'time_convert_numpy_to_opencv': convert_numpy_to_opencv_time,\n",
    "    'time_model_inference': model_inference_time,\n",
    "}\n",
    "'''\n",
    "data_points = [] # list of data points\n",
    "\n",
    "# regex for extracting data from log\n",
    "# try to match pattern\n",
    "# ts=12345\n",
    "re_operation_times = re.compile(r'ts=(\\d+)')\n",
    "# value_string='xxxxx'\n",
    "re_operation_name = re.compile(r'value_string=\\'(([a-z]|[A-Z]|[0-9]|\\ )*)\\'')\n",
    "\n",
    "for data_file_path in data_file_list:\n",
    "    data_point_setup = {}\n",
    "    # parse file name\n",
    "    file_name = os.path.basename(data_file_path).split('.')[0]\n",
    "    print(file_name)\n",
    "    file_name_split = file_name.split('_')\n",
    "    # get number of clients\n",
    "    data_point_setup['client'] = int(file_name_split[file_name_split.index('client')+1])\n",
    "    # get gpu and gpu memory\n",
    "    if 'gpu' in file_name_split:\n",
    "        gpu_config = file_name_split[file_name_split.index('gpu')+1]\n",
    "        if gpu_config == '0':\n",
    "            data_point_setup['gpu'] = 0\n",
    "            data_point_setup['gpu_mem'] = 0\n",
    "        else:\n",
    "            gpu_config_split = gpu_config.split('g')\n",
    "            data_point_setup['gpu'] = int(gpu_config_split[0])\n",
    "            data_point_setup['gpu_mem'] = int(gpu_config_split[1])\n",
    "    else:\n",
    "        data_point_setup['gpu'] = 0\n",
    "        data_point_setup['gpu_mem'] = 0\n",
    "    # get cpu\n",
    "    cpu_str = file_name_split[file_name_split.index('cpu')+1]\n",
    "    if 'm' in cpu_str:\n",
    "        cpu_str = cpu_str.split('m')[0]\n",
    "        data_point_setup['cpu'] = int(cpu_str)\n",
    "    else:\n",
    "        data_point_setup['cpu'] = int(cpu_str) * 1000\n",
    "    # get mem\n",
    "    if 'mem' in file_name_split:\n",
    "        mem_str = file_name_split[file_name_split.index('mem')+1]\n",
    "    elif 'memory' in file_name_split:\n",
    "        mem_str = file_name_split[file_name_split.index('memory')+1].split('g')[0]\n",
    "    else:\n",
    "        mem_str = '0'\n",
    "    data_point_setup['mem'] = int(mem_str)\n",
    "\n",
    "    # read csv file\n",
    "    with open(data_file_path, 'r') as f:\n",
    "        reader = csv.reader(f)\n",
    "        for id, row in enumerate(reader):\n",
    "            if row[0] == 'detect':\n",
    "                data_point = {\n",
    "                    'cpu': data_point_setup['cpu'],\n",
    "                    'mem': data_point_setup['mem'],\n",
    "                    'gpu': data_point_setup['gpu'],\n",
    "                    'gpu_mem': data_point_setup['gpu_mem'],\n",
    "                    'client': data_point_setup['client']\n",
    "                }\n",
    "                logs_str = row[3]\n",
    "                operation_time_list = re_operation_times.findall(logs_str)\n",
    "                operation_name_list = re_operation_name.findall(logs_str)\n",
    "                time_extract_network_package = int(operation_time_list[1]) - int(operation_time_list[0])\n",
    "                time_convert_data_to_numpy = int(operation_time_list[2]) - int(operation_time_list[1])\n",
    "                time_convert_numpy_to_opencv = int(operation_time_list[3]) - int(operation_time_list[2])\n",
    "                time_model_inference = int(operation_time_list[4]) - int(operation_time_list[3])\n",
    "                data_point['time_extract_network_package'] = time_extract_network_package\n",
    "                data_point['time_convert_data_to_numpy'] = time_convert_data_to_numpy\n",
    "                data_point['time_convert_numpy_to_opencv'] = time_convert_numpy_to_opencv\n",
    "                data_point['time_model_inference'] = time_model_inference\n",
    "                data_points.append(data_point)\n",
    "    "
   ]
  },
  {
   "cell_type": "code",
   "execution_count": 4,
   "metadata": {},
   "outputs": [],
   "source": [
    "# output data to csv file\n",
    "df = pd.DataFrame(data_points)\n",
    "df.to_csv('data_points.csv', index=False)"
   ]
  }
 ],
 "metadata": {
  "kernelspec": {
   "display_name": "base",
   "language": "python",
   "name": "python3"
  },
  "language_info": {
   "codemirror_mode": {
    "name": "ipython",
    "version": 3
   },
   "file_extension": ".py",
   "mimetype": "text/x-python",
   "name": "python",
   "nbconvert_exporter": "python",
   "pygments_lexer": "ipython3",
   "version": "3.9.13"
  },
  "orig_nbformat": 4
 },
 "nbformat": 4,
 "nbformat_minor": 2
}
